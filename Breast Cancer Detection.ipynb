{
 "cells": [
  {
   "cell_type": "markdown",
   "id": "decd7d4e",
   "metadata": {},
   "source": [
    "## Beast Cancer Reduction"
   ]
  },
  {
   "cell_type": "code",
   "execution_count": 5,
   "id": "5eeb4883",
   "metadata": {},
   "outputs": [],
   "source": [
    "from tensorflow.keras.models import Sequential\n",
    "from tensorflow.keras.layers import Conv2D, MaxPooling2D, Dense, Flatten, Dropout, BatchNormalization, GlobalAveragePooling2D\n",
    "from keras.preprocessing.image import ImageDataGenerator, load_img, img_to_array\n",
    "from tensorflow.keras.optimizers import Adam\n",
    "import pandas as pd\n",
    "import cv2 as cv2\n",
    "import numpy as np\n",
    "from matplotlib import pyplot as plt\n",
    "import os\n",
    "from sklearn.model_selection import train_test_split\n",
    "import tensorflow as tf"
   ]
  },
  {
   "cell_type": "code",
   "execution_count": 6,
   "id": "33b10631",
   "metadata": {},
   "outputs": [],
   "source": [
    "dataset = r\"Datasets\"\n",
    "Yes_path = r\"Datasets\\1\"\n",
    "No_path = r\"Datasets\\0\""
   ]
  },
  {
   "cell_type": "code",
   "execution_count": 1,
   "id": "58604166",
   "metadata": {},
   "outputs": [],
   "source": [
    "img = cv2.imread(Yes_path+'\\9023_idx5_x1401_y1351_class1.png')\n",
    "print(img.shape)\n",
    "plt.imshow(img)"
   ]
  },
  {
   "cell_type": "code",
   "execution_count": null,
   "id": "f9fa3739",
   "metadata": {},
   "outputs": [],
   "source": [
    "vals = [Yes_path, No_path]\n",
    "print(os.listdir(vals[0]).__len__())\n",
    "print(os.listdir(vals[1]).__len__())"
   ]
  },
  {
   "cell_type": "code",
   "execution_count": null,
   "id": "5eb3ff70",
   "metadata": {},
   "outputs": [],
   "source": [
    "pathdir = [Yes_path, No_path]\n",
    "classes = ['Yes', 'No']\n",
    "filepaths = []\n",
    "labels = []\n",
    "for i, j in zip(pathdir, classes):\n",
    "    filelist = os.listdir(i)\n",
    "    print(filelist)\n",
    "    for vals in filelist:\n",
    "        x = os.path.join(i, vals)\n",
    "        filepaths.append(x)\n",
    "        labels.append(j)\n",
    "print(filepaths.__len__(), labels.__len__())"
   ]
  },
  {
   "cell_type": "code",
   "execution_count": null,
   "id": "abb86e0c",
   "metadata": {},
   "outputs": [],
   "source": [
    "dataset = list(zip(filepaths, labels))\n",
    "pathframe = pd.DataFrame(dataset, columns=['filepaths', 'labels'])"
   ]
  },
  {
   "cell_type": "code",
   "execution_count": null,
   "id": "fa817a7b",
   "metadata": {},
   "outputs": [],
   "source": [
    "pathframe.__len__()\n",
    "pathframe.tail()"
   ]
  },
  {
   "cell_type": "code",
   "execution_count": null,
   "id": "829fae15",
   "metadata": {},
   "outputs": [],
   "source": [
    "print(pathframe['labels'].value_counts())"
   ]
  },
  {
   "cell_type": "code",
   "execution_count": null,
   "id": "9e1053e6",
   "metadata": {},
   "outputs": [],
   "source": [
    "for i in range(0, 20):\n",
    "    vals = np.random.randint(1, len(pathframe))\n",
    "    plt.subplot(4,5, i+1)\n",
    "    plt.imshow(cv2.imread(pathframe.filepaths[vals]))\n",
    "    plt.axis('off')\n",
    "plt.show()"
   ]
  },
  {
   "cell_type": "code",
   "execution_count": null,
   "id": "26f5b745",
   "metadata": {},
   "outputs": [],
   "source": [
    "Train, Test = train_test_split(pathframe, train_size=0.90, random_state=0)\n",
    "Train_new, valid = train_test_split(Train, train_size = 0.90, random_state=0)\n",
    "print(Train.shape, Test.shape, Train_new.shape, valid.shape)"
   ]
  },
  {
   "cell_type": "code",
   "execution_count": null,
   "id": "82349d18",
   "metadata": {},
   "outputs": [],
   "source": [
    "train_datagen = ImageDataGenerator(rescale=1.0/255, rotation_range= 40 , width_shift_range=0.2, height_shift_range=0.2, shear_range=0.2, \n",
    "                                  zoom_range=0.2, horizontal_flip = True, vertical_flip= True)\n",
    "test_datagen = ImageDataGenerator(rescale=1.0/255)"
   ]
  },
  {
   "cell_type": "code",
   "execution_count": null,
   "id": "582517d9",
   "metadata": {},
   "outputs": [],
   "source": [
    "train_gen = train_datagen.flow_from_dataframe(dataframe = Train_new, x_col = 'filepaths', y_col='labels', batch_size=16, \n",
    "                                             target_size=(50,50), class_mode = 'binary', shuffle=True)\n",
    "\n",
    "valid_gen = train_datagen.flow_from_dataframe(dataframe = valid, x_col = 'filepaths', y_col='labels', batch_size=16, \n",
    "                                             target_size=(50,50), class_mode = 'binary', shuffle=True)\n",
    "test_gen = train_datagen.flow_from_dataframe(dataframe = Test, x_col = 'filepaths', y_col='labels', batch_size=16, \n",
    "                                             target_size=(50,50), class_mode = 'binary', shuffle=False)"
   ]
  },
  {
   "cell_type": "code",
   "execution_count": null,
   "id": "c79a05d8",
   "metadata": {},
   "outputs": [],
   "source": [
    "print(train_gen.class_indices)\n",
    "print(train_gen[0][0].shape)\n",
    "\n",
    "for i in range(0, 12):\n",
    "    val = train_gen[0][0][i]\n",
    "    plt.subplot(4,3,i+1)\n",
    "    plt.imshow(val)\n",
    "    plt.axis('off')\n",
    "plt.show()"
   ]
  },
  {
   "cell_type": "code",
   "execution_count": null,
   "id": "86b813a9",
   "metadata": {},
   "outputs": [],
   "source": [
    "base_model = tf.keras.applications.InceptionResNetV2(weights='imagenet', input_shape= (150,150,3), include_top=False)\n",
    "model = Sequential()\n",
    "model.add(base_model)\n",
    "model.add(GlobalAveragePooling2D())\n",
    "model.add(Dense(128, activation='relu'))\n",
    "model.add(BatchNormalization())\n",
    "model.add(Dropout(0.2))\n",
    "model.add(Dense(1, activation='sigmoid'))"
   ]
  },
  {
   "cell_type": "code",
   "execution_count": null,
   "id": "c4ca7878",
   "metadata": {},
   "outputs": [],
   "source": [
    "callbacks = tf.keras.callbacks.EarlyStopping(monitor='val_accuracy', patience = 2, min_delta= 0.01)"
   ]
  },
  {
   "cell_type": "code",
   "execution_count": null,
   "id": "965edaed",
   "metadata": {},
   "outputs": [],
   "source": [
    "model.compile(loss='binary_crossentropy', optimizer= Adam(lr=0.01), metrics=['accuracy'])\n",
    "model.fit(train_gen, validation_data= valid_gen, epochs=16, verbose=1)"
   ]
  },
  {
   "cell_type": "code",
   "execution_count": null,
   "id": "9ffbeeba",
   "metadata": {},
   "outputs": [],
   "source": [
    "model.evaluate(test_gen)"
   ]
  },
  {
   "cell_type": "code",
   "execution_count": null,
   "id": "3b4cc8aa",
   "metadata": {},
   "outputs": [],
   "source": []
  },
  {
   "cell_type": "markdown",
   "id": "60093812",
   "metadata": {},
   "source": [
    "### Urjita Subir Swar\n",
    "\n",
    "TCR-Innovation Internship Final Project (Breast Cancer Detection)"
   ]
  },
  {
   "cell_type": "code",
   "execution_count": null,
   "id": "172ddb66",
   "metadata": {},
   "outputs": [],
   "source": []
  }
 ],
 "metadata": {
  "kernelspec": {
   "display_name": "Python 3",
   "language": "python",
   "name": "python3"
  },
  "language_info": {
   "codemirror_mode": {
    "name": "ipython",
    "version": 3
   },
   "file_extension": ".py",
   "mimetype": "text/x-python",
   "name": "python",
   "nbconvert_exporter": "python",
   "pygments_lexer": "ipython3",
   "version": "3.8.8"
  }
 },
 "nbformat": 4,
 "nbformat_minor": 5
}
